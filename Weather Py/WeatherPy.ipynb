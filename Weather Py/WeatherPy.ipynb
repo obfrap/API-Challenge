{
 "cells": [
  {
   "cell_type": "markdown",
   "metadata": {},
   "source": [
    "# WeatherPy\n",
    "----\n",
    "\n",
    "#### Note\n",
    "* Instructions have been included for each segment. You do not have to follow them exactly, but they are included to help you think through the steps."
   ]
  },
  {
   "cell_type": "code",
   "execution_count": 1,
   "metadata": {
    "scrolled": true
   },
   "outputs": [],
   "source": [
    "# Dependencies and Setup\n",
    "import matplotlib.pyplot as plt\n",
    "import pandas as pd\n",
    "import numpy as np\n",
    "import requests\n",
    "import time\n",
    "import scipy.stats as st\n",
    "from scipy.stats import linregress\n",
    "from pandas import json_normalize\n",
    "\n",
    "# Import API key\n",
    "from api_keys import weather_api_key\n",
    "\n",
    "# Incorporated citipy to determine city based on latitude and longitude\n",
    "from citipy import citipy\n",
    "\n",
    "# Output File (CSV)\n",
    "output_data_file = \"output_data/cities.csv\"\n",
    "\n",
    "# Range of latitudes and longitudes\n",
    "lat_range = (-90, 90)\n",
    "lng_range = (-180, 180)"
   ]
  },
  {
   "cell_type": "markdown",
   "metadata": {},
   "source": [
    "## Generate Cities List"
   ]
  },
  {
   "cell_type": "code",
   "execution_count": 2,
   "metadata": {},
   "outputs": [
    {
     "data": {
      "text/plain": [
       "602"
      ]
     },
     "execution_count": 2,
     "metadata": {},
     "output_type": "execute_result"
    }
   ],
   "source": [
    "# List for holding lat_lngs and cities\n",
    "lat_lngs = []\n",
    "cities = []\n",
    "\n",
    "# Create a set of random lat and lng combinations\n",
    "lats = np.random.uniform(lat_range[0], lat_range[1], size=1500)\n",
    "lngs = np.random.uniform(lng_range[0], lng_range[1], size=1500)\n",
    "lat_lngs = zip(lats, lngs)\n",
    "\n",
    "# Identify nearest city for each lat, lng combination\n",
    "for lat_lng in lat_lngs:\n",
    "    city = citipy.nearest_city(lat_lng[0], lat_lng[1]).city_name\n",
    "    \n",
    "    # If the city is unique, then add it to a our cities list\n",
    "    if city not in cities:\n",
    "        cities.append(city)\n",
    "\n",
    "# Print the city count to confirm sufficient count\n",
    "len(cities)"
   ]
  },
  {
   "cell_type": "markdown",
   "metadata": {},
   "source": [
    "### Perform API Calls\n",
    "* Perform a weather check on each city using a series of successive API calls.\n",
    "* Include a print log of each city as it'sbeing processed (with the city number and city name).\n"
   ]
  },
  {
   "cell_type": "code",
   "execution_count": 3,
   "metadata": {},
   "outputs": [
    {
     "name": "stdout",
     "output_type": "stream",
     "text": [
      "albany is city 1\n",
      "san cristobal is city 2\n",
      "tuatapere is city 3\n",
      "ostrovnoy is city 4\n",
      "marcona is city 5\n",
      "new norfolk is city 6\n",
      "avenal is city 7\n",
      "nioro is city 8\n",
      "ribeira grande is city 9\n",
      "antalaha is city 10\n",
      "carnarvon is city 11\n",
      "ushuaia is city 12\n",
      "constitucion is city 13\n",
      "hovd is city 14\n",
      "punta arenas is city 15\n",
      "castro is city 16\n",
      "hermanus is city 17\n",
      "faanui is city 18\n",
      "iskateley is city 19\n",
      "taolanaro is city 20\n",
      "cumaribo is city 21\n",
      "vao is city 22\n",
      "bredasdorp is city 23\n",
      "smithers is city 24\n",
      "saint-michel-des-saints is city 25\n",
      "dingle is city 26\n",
      "busselton is city 27\n",
      "sitka is city 28\n",
      "airai is city 29\n",
      "djambala is city 30\n",
      "upernavik is city 31\n",
      "erenhot is city 32\n",
      "clyde river is city 33\n",
      "ponta delgada is city 34\n",
      "meridian is city 35\n",
      "rikitea is city 36\n",
      "ambodifototra is city 37\n",
      "kaeo is city 38\n",
      "jamestown is city 39\n",
      "guerrero negro is city 40\n",
      "praia da vitoria is city 41\n",
      "havelock is city 42\n",
      "ballina is city 43\n",
      "puerto ayora is city 44\n",
      "huilong is city 45\n",
      "qaanaaq is city 46\n",
      "lebu is city 47\n",
      "nanortalik is city 48\n",
      "luderitz is city 49\n",
      "varzea da palma is city 50\n",
      "nanhai is city 51\n",
      "westport is city 52\n",
      "chuy is city 53\n",
      "mys shmidta is city 54\n",
      "illoqqortoormiut is city 55\n",
      "saldanha is city 56\n",
      "necochea is city 57\n",
      "tamala is city 58\n",
      "lompoc is city 59\n",
      "omboue is city 60\n",
      "antofagasta is city 61\n",
      "hami is city 62\n",
      "nelson bay is city 63\n",
      "flin flon is city 64\n",
      "gulf gate estates is city 65\n",
      "east london is city 66\n",
      "vila franca do campo is city 67\n",
      "yarada is city 68\n",
      "barentsburg is city 69\n",
      "atuona is city 70\n",
      "saskylakh is city 71\n",
      "mataura is city 72\n",
      "vaini is city 73\n",
      "acajutla is city 74\n",
      "kenai is city 75\n",
      "bluff is city 76\n",
      "zhangye is city 77\n",
      "barquisimeto is city 78\n",
      "port elizabeth is city 79\n",
      "denia is city 80\n",
      "cape town is city 81\n",
      "amahai is city 82\n",
      "arraial do cabo is city 83\n",
      "port alfred is city 84\n",
      "saint-philippe is city 85\n",
      "bengkulu is city 86\n",
      "henties bay is city 87\n",
      "ahipara is city 88\n",
      "la asuncion is city 89\n",
      "kuche is city 90\n",
      "cherskiy is city 91\n",
      "quatre cocos is city 92\n",
      "manicore is city 93\n",
      "kapaa is city 94\n",
      "amurzet is city 95\n",
      "mahebourg is city 96\n",
      "saryg-sep is city 97\n",
      "marawi is city 98\n",
      "hobart is city 99\n",
      "yirol is city 100\n",
      "tuktoyaktuk is city 101\n",
      "masallatah is city 102\n",
      "los llanos de aridane is city 103\n",
      "jieshi is city 104\n",
      "altay is city 105\n",
      "georgetown is city 106\n",
      "comodoro rivadavia is city 107\n",
      "dhidhdhoo is city 108\n",
      "saleaula is city 109\n",
      "toksovo is city 110\n",
      "cleveland is city 111\n",
      "ishigaki is city 112\n",
      "cabo san lucas is city 113\n",
      "chokurdakh is city 114\n",
      "palu is city 115\n",
      "shingu is city 116\n",
      "damaturu is city 117\n",
      "komsomolskiy is city 118\n",
      "toktogul is city 119\n",
      "pevek is city 120\n",
      "adrar is city 121\n",
      "dzhusaly is city 122\n",
      "amga is city 123\n",
      "yellowknife is city 124\n",
      "verkhoyansk is city 125\n",
      "isangel is city 126\n",
      "wanaka is city 127\n",
      "laguna is city 128\n",
      "gat is city 129\n",
      "narsaq is city 130\n",
      "belushya guba is city 131\n",
      "ahualulco is city 132\n",
      "bambous virieux is city 133\n",
      "havre-saint-pierre is city 134\n",
      "buin is city 135\n",
      "dzhebariki-khaya is city 136\n",
      "attawapiskat is city 137\n",
      "avarua is city 138\n",
      "butaritari is city 139\n",
      "young is city 140\n",
      "namatanai is city 141\n",
      "hambantota is city 142\n",
      "san patricio is city 143\n",
      "hirara is city 144\n",
      "kazalinsk is city 145\n",
      "kasongo-lunda is city 146\n",
      "visnes is city 147\n",
      "college is city 148\n",
      "bolshaya vishera is city 149\n",
      "sioux lookout is city 150\n",
      "torbay is city 151\n",
      "zhigansk is city 152\n",
      "maykain is city 153\n",
      "galiwinku is city 154\n",
      "varhaug is city 155\n",
      "hamadan is city 156\n",
      "dali is city 157\n",
      "bathsheba is city 158\n",
      "saint-denis is city 159\n",
      "kendari is city 160\n",
      "kirakira is city 161\n",
      "barrow is city 162\n",
      "vanimo is city 163\n",
      "iralaya is city 164\n",
      "ronneby is city 165\n",
      "palabuhanratu is city 166\n",
      "mao is city 167\n",
      "berdyuzhye is city 168\n",
      "genhe is city 169\n",
      "mount isa is city 170\n",
      "saint george is city 171\n",
      "nizhneyansk is city 172\n",
      "kodiak is city 173\n",
      "anadyr is city 174\n",
      "nong chik is city 175\n",
      "neufchateau is city 176\n",
      "chicama is city 177\n",
      "hilo is city 178\n",
      "maneadero is city 179\n",
      "surskoye is city 180\n",
      "warmbad is city 181\n",
      "maloh is city 182\n",
      "amderma is city 183\n",
      "hithadhoo is city 184\n",
      "lata is city 185\n",
      "chitrakonda is city 186\n",
      "abha is city 187\n",
      "ajdabiya is city 188\n",
      "cidreira is city 189\n",
      "tual is city 190\n",
      "jaltipan is city 191\n",
      "kruisfontein is city 192\n",
      "nikolskoye is city 193\n",
      "fuling is city 194\n",
      "dolinsk is city 195\n",
      "bambanglipuro is city 196\n",
      "katsuura is city 197\n",
      "tigil is city 198\n",
      "araouane is city 199\n",
      "berlevag is city 200\n",
      "bandipur is city 201\n",
      "honiara is city 202\n",
      "khatanga is city 203\n",
      "solwezi is city 204\n",
      "svetlogorsk is city 205\n",
      "vieste is city 206\n",
      "saint anthony is city 207\n",
      "ingham is city 208\n",
      "victoria is city 209\n",
      "olinda is city 210\n",
      "handwara is city 211\n",
      "rafiganj is city 212\n",
      "smolenka is city 213\n",
      "cuiluan is city 214\n",
      "ponta do sol is city 215\n",
      "balimo is city 216\n",
      "tasiilaq is city 217\n",
      "uyemskiy is city 218\n",
      "puerto montt is city 219\n",
      "karratha is city 220\n",
      "bogotol is city 221\n",
      "port macquarie is city 222\n",
      "inhambane is city 223\n",
      "lumberton is city 224\n",
      "salinopolis is city 225\n",
      "daru is city 226\n",
      "fortuna is city 227\n",
      "monze is city 228\n",
      "provideniya is city 229\n",
      "baykit is city 230\n",
      "vestmannaeyjar is city 231\n",
      "vanderhoof is city 232\n",
      "port hawkesbury is city 233\n",
      "aklavik is city 234\n",
      "aflu is city 235\n",
      "sao joao da barra is city 236\n",
      "doha is city 237\n",
      "novaya igirma is city 238\n",
      "yerbogachen is city 239\n",
      "bethel is city 240\n",
      "ola is city 241\n",
      "burns lake is city 242\n",
      "ilulissat is city 243\n",
      "richards bay is city 244\n",
      "aden is city 245\n",
      "oeiras do para is city 246\n",
      "kem is city 247\n",
      "floro is city 248\n",
      "glubokoe is city 249\n",
      "athabasca is city 250\n",
      "dhandhuka is city 251\n",
      "grindavik is city 252\n",
      "dikson is city 253\n",
      "sohag is city 254\n",
      "olafsvik is city 255\n",
      "mana is city 256\n",
      "shaunavon is city 257\n",
      "wajir is city 258\n",
      "ladario is city 259\n",
      "thompson is city 260\n",
      "mbuji-mayi is city 261\n",
      "cayenne is city 262\n",
      "puerto el triunfo is city 263\n",
      "taltal is city 264\n",
      "bilibino is city 265\n",
      "rio grande is city 266\n",
      "paucartambo is city 267\n",
      "namibe is city 268\n",
      "waipawa is city 269\n",
      "aykhal is city 270\n",
      "puerto suarez is city 271\n",
      "denpasar is city 272\n",
      "tsihombe is city 273\n",
      "yala is city 274\n",
      "pundaguitan is city 275\n",
      "darlawn is city 276\n",
      "lesnyye polyany is city 277\n",
      "lavrentiya is city 278\n",
      "cairns is city 279\n",
      "hofn is city 280\n",
      "paredon is city 281\n",
      "kawalu is city 282\n",
      "terney is city 283\n",
      "grand river south east is city 284\n",
      "north bend is city 285\n",
      "port lincoln is city 286\n",
      "kosikha is city 287\n",
      "palmer is city 288\n",
      "stromness is city 289\n",
      "salou is city 290\n",
      "la ronge is city 291\n",
      "asau is city 292\n",
      "severo-kurilsk is city 293\n",
      "hit is city 294\n",
      "hasaki is city 295\n",
      "lichinga is city 296\n",
      "beringovskiy is city 297\n",
      "mayahi is city 298\n",
      "longyearbyen is city 299\n",
      "billings is city 300\n",
      "belaya gora is city 301\n",
      "ergani is city 302\n",
      "kitaibaraki is city 303\n",
      "rawah is city 304\n",
      "santa cruz de tenerife is city 305\n",
      "makakilo city is city 306\n",
      "buraydah is city 307\n",
      "tiksi is city 308\n",
      "high rock is city 309\n",
      "kharovsk is city 310\n",
      "pangody is city 311\n",
      "kavaratti is city 312\n",
      "naze is city 313\n",
      "zeya is city 314\n",
      "alofi is city 315\n",
      "lorengau is city 316\n",
      "salalah is city 317\n",
      "hunza is city 318\n",
      "nagua is city 319\n",
      "bonavista is city 320\n",
      "chara is city 321\n",
      "bracciano is city 322\n",
      "mar del plata is city 323\n",
      "banjarmasin is city 324\n",
      "broome is city 325\n",
      "gold coast is city 326\n",
      "nayoro is city 327\n",
      "kavieng is city 328\n",
      "paamiut is city 329\n",
      "tomatlan is city 330\n",
      "puerto escondido is city 331\n",
      "ust-kamchatsk is city 332\n",
      "boulsa is city 333\n",
      "bilma is city 334\n",
      "fort saint john is city 335\n",
      "loandjili is city 336\n",
      "tongliao is city 337\n",
      "santander is city 338\n",
      "freeport is city 339\n",
      "maceio is city 340\n",
      "madaoua is city 341\n",
      "san buenaventura is city 342\n",
      "ambon is city 343\n",
      "sur is city 344\n",
      "port blair is city 345\n",
      "valkeakoski is city 346\n",
      "havoysund is city 347\n",
      "tadine is city 348\n",
      "laibin is city 349\n",
      "gulu is city 350\n",
      "sydney mines is city 351\n",
      "varanasi is city 352\n",
      "campoverde is city 353\n",
      "matalom is city 354\n",
      "coquimbo is city 355\n",
      "chattanooga is city 356\n",
      "tiarei is city 357\n",
      "gondanglegi is city 358\n",
      "juneau is city 359\n",
      "grand centre is city 360\n",
      "biltine is city 361\n",
      "kilinochchi is city 362\n",
      "nagaur is city 363\n",
      "pozo colorado is city 364\n",
      "maraa is city 365\n",
      "norman wells is city 366\n",
      "yumen is city 367\n",
      "bara is city 368\n",
      "sept-iles is city 369\n",
      "gweta is city 370\n",
      "san felipe is city 371\n",
      "mahon is city 372\n",
      "altamira is city 373\n",
      "vardo is city 374\n",
      "viedma is city 375\n",
      "okhotsk is city 376\n",
      "panaba is city 377\n",
      "odweyne is city 378\n",
      "geraldton is city 379\n",
      "poya is city 380\n",
      "sao filipe is city 381\n",
      "caluquembe is city 382\n",
      "saint-pierre is city 383\n",
      "santa isabel is city 384\n",
      "santa catarina de tepehuanes is city 385\n",
      "pozorice is city 386\n",
      "kijang is city 387\n",
      "ulladulla is city 388\n",
      "sisimiut is city 389\n",
      "makanya is city 390\n",
      "pajapan is city 391\n",
      "ulaangom is city 392\n",
      "talaja is city 393\n",
      "buritama is city 394\n",
      "den helder is city 395\n",
      "gushi is city 396\n",
      "almaznyy is city 397\n",
      "hamilton is city 398\n",
      "atasu is city 399\n",
      "semnan is city 400\n",
      "iqaluit is city 401\n",
      "yar-sale is city 402\n",
      "souillac is city 403\n",
      "linapacan is city 404\n",
      "camacupa is city 405\n",
      "port moresby is city 406\n",
      "ancud is city 407\n",
      "slave lake is city 408\n",
      "keetmanshoop is city 409\n",
      "manokwari is city 410\n",
      "budhgaon is city 411\n",
      "tabialan is city 412\n",
      "maarianhamina is city 413\n",
      "sobolevo is city 414\n",
      "miandrivazo is city 415\n",
      "yulara is city 416\n",
      "talaya is city 417\n",
      "kiama is city 418\n",
      "lyngseidet is city 419\n",
      "pochutla is city 420\n",
      "phulabani is city 421\n",
      "canchungo is city 422\n",
      "lokosovo is city 423\n",
      "mentok is city 424\n",
      "shimoda is city 425\n",
      "ilhabela is city 426\n",
      "opuwo is city 427\n",
      "bubaque is city 428\n",
      "ormara is city 429\n",
      "turukhansk is city 430\n",
      "saint-joseph is city 431\n",
      "ewa beach is city 432\n",
      "walvis bay is city 433\n",
      "arlit is city 434\n",
      "santa rita is city 435\n",
      "vila velha is city 436\n",
      "taga is city 437\n",
      "deer lake is city 438\n",
      "silver city is city 439\n",
      "khovu-aksy is city 440\n",
      "macaboboni is city 441\n",
      "abnub is city 442\n",
      "tynda is city 443\n",
      "oranzherei is city 444\n",
      "lagos is city 445\n",
      "mayskiy is city 446\n",
      "safaga is city 447\n",
      "inhapim is city 448\n",
      "hihifo is city 449\n",
      "visby is city 450\n",
      "gambela is city 451\n",
      "sogdiondon is city 452\n",
      "phan rang is city 453\n",
      "mogadishu is city 454\n",
      "assiniboia is city 455\n",
      "dalvik is city 456\n",
      "libreville is city 457\n",
      "arman is city 458\n",
      "buta is city 459\n",
      "caramay is city 460\n",
      "benguela is city 461\n",
      "auki is city 462\n",
      "mbini is city 463\n",
      "mandurah is city 464\n",
      "warkworth is city 465\n",
      "halalo is city 466\n",
      "jhelum is city 467\n",
      "vangaindrano is city 468\n",
      "tunduru is city 469\n",
      "esperance is city 470\n",
      "port augusta is city 471\n",
      "palmerston is city 472\n",
      "solnechnyy is city 473\n",
      "andenes is city 474\n",
      "emba is city 475\n",
      "kahului is city 476\n",
      "qandala is city 477\n",
      "bridlington is city 478\n",
      "evensk is city 479\n",
      "naifaru is city 480\n",
      "linxi is city 481\n",
      "jeremie is city 482\n",
      "codrington is city 483\n",
      "clyde is city 484\n",
      "kamenskoye is city 485\n",
      "san policarpo is city 486\n",
      "jiangyin is city 487\n",
      "soledade is city 488\n",
      "rafaela is city 489\n",
      "pisco is city 490\n",
      "fare is city 491\n",
      "khash is city 492\n",
      "gurlan is city 493\n",
      "sussex is city 494\n",
      "aliwal north is city 495\n",
      "emerald is city 496\n",
      "bolungarvik is city 497\n",
      "khorixas is city 498\n",
      "talara is city 499\n",
      "leningradskiy is city 500\n",
      "ugoofaaru is city 501\n",
      "tautira is city 502\n",
      "portland is city 503\n",
      "sorong is city 504\n",
      "novoagansk is city 505\n",
      "guicheng is city 506\n",
      "predivinsk is city 507\n",
      "urdoma is city 508\n",
      "harlow is city 509\n",
      "portel is city 510\n",
      "bac lieu is city 511\n",
      "beatrice is city 512\n",
      "noumea is city 513\n",
      "guhagar is city 514\n",
      "labuan is city 515\n",
      "eyl is city 516\n",
      "labutta is city 517\n",
      "dubbo is city 518\n",
      "madurai is city 519\n",
      "sorrento is city 520\n",
      "zapolyarnyy is city 521\n",
      "sambava is city 522\n",
      "lancaster is city 523\n",
      "manzhouli is city 524\n",
      "tara is city 525\n",
      "kautokeino is city 526\n",
      "machado is city 527\n",
      "srednekolymsk is city 528\n",
      "surt is city 529\n",
      "great falls is city 530\n",
      "gambo is city 531\n",
      "loikaw is city 532\n",
      "mayumba is city 533\n",
      "camacha is city 534\n",
      "la orilla is city 535\n",
      "mapiripan is city 536\n",
      "maniitsoq is city 537\n",
      "jerome is city 538\n",
      "kaitangata is city 539\n",
      "chungho is city 540\n",
      "guarapari is city 541\n",
      "sentyabrskiy is city 542\n",
      "bardiyah is city 543\n",
      "draguignan is city 544\n",
      "acapulco is city 545\n",
      "saint-paul is city 546\n",
      "haibowan is city 547\n",
      "kapitan ramon is city 548\n",
      "el alto is city 549\n",
      "batangafo is city 550\n",
      "abu dhabi is city 551\n",
      "toro is city 552\n",
      "ningxiang is city 553\n",
      "lagoa is city 554\n",
      "padang is city 555\n",
      "qiongshan is city 556\n",
      "haines junction is city 557\n",
      "diamantino is city 558\n",
      "novi sanzhary is city 559\n",
      "sabha is city 560\n",
      "teguise is city 561\n",
      "yuli is city 562\n",
      "pabna is city 563\n",
      "yian is city 564\n",
      "bondo is city 565\n",
      "kysyl-syr is city 566\n",
      "wamba is city 567\n",
      "almenara is city 568\n",
      "bembereke is city 569\n",
      "coihaique is city 570\n",
      "katobu is city 571\n",
      "mackay is city 572\n",
      "kamenka is city 573\n",
      "bitung is city 574\n",
      "vastervik is city 575\n",
      "axim is city 576\n",
      "belle fourche is city 577\n",
      "onguday is city 578\n",
      "kisangani is city 579\n",
      "boguchany is city 580\n",
      "moerai is city 581\n",
      "shubarkuduk is city 582\n",
      "bontang is city 583\n",
      "santa maria is city 584\n",
      "dunedin is city 585\n",
      "praia is city 586\n",
      "lolua is city 587\n",
      "kousseri is city 588\n",
      "wazzan is city 589\n",
      "sardinata is city 590\n",
      "tanda is city 591\n",
      "timizart is city 592\n",
      "orsha is city 593\n",
      "udachnyy is city 594\n",
      "andevoranto is city 595\n",
      "guanica is city 596\n",
      "avera is city 597\n",
      "alice springs is city 598\n",
      "naryan-mar is city 599\n",
      "arroyo is city 600\n",
      "fairbanks is city 601\n",
      "lewiston is city 602\n"
     ]
    }
   ],
   "source": [
    "# Bring in URL for future\n",
    "url = \"http://api.openweathermap.org/data/2.5/weather?\"\n",
    "\n",
    "# Build query URL\n",
    "query_url = url + \"appid=\" + weather_api_key + \"&q=\"\n",
    "\n",
    "#New DataFrame to stor the data\n",
    "weather_df=pd.DataFrame()\n",
    "\n",
    "count=0\n",
    "#For loop to query openweathermap.org bases on rando cities from list.  Read values with Json into a dataframe\n",
    "for city in cities:\n",
    "    city_data=requests.get(query_url+city+'&units=imperial').json()\n",
    "    weather_df=weather_df.append(json_normalize(city_data))\n",
    "    count=count+1\n",
    "    print(f'{city} is city {count}')"
   ]
  },
  {
   "cell_type": "markdown",
   "metadata": {},
   "source": [
    "### Convert Raw Data to DataFrame\n",
    "* Export the city data into a .csv.\n",
    "* Display the DataFrame"
   ]
  },
  {
   "cell_type": "code",
   "execution_count": 4,
   "metadata": {},
   "outputs": [],
   "source": [
    "#Rename columns in data frame\n",
    "weather_df=weather_df.rename(columns={'coord.lon':'Lon', 'coord.lat':'Lat', 'main.temp_max':'Max Temp', 'wind.speed':\n",
    "                                     'Wind Speed', 'main.humidity':'Humidity', 'clouds.all':'Cloud Cover', 'sys.country':'Country'})\n",
    "#Write renamed file to .csv\n",
    "weather_df=pd.DataFrame(weather_df)\n",
    "weather_df.to_csv('weather_df.csv')"
   ]
  },
  {
   "cell_type": "code",
   "execution_count": 5,
   "metadata": {},
   "outputs": [
    {
     "data": {
      "text/plain": [
       "547"
      ]
     },
     "execution_count": 5,
     "metadata": {},
     "output_type": "execute_result"
    }
   ],
   "source": [
    "#Looking at cod value.  Those with 400 means no city data could be returned\n",
    "weather_df=weather_df[weather_df['cod']==200]\n",
    "\n",
    "len(weather_df)"
   ]
  },
  {
   "cell_type": "markdown",
   "metadata": {},
   "source": [
    "## Inspect the data and remove the cities where the humidity > 100%.\n",
    "----\n",
    "Skip this step if there are no cities that have humidity > 100%. "
   ]
  },
  {
   "cell_type": "code",
   "execution_count": 6,
   "metadata": {},
   "outputs": [
    {
     "data": {
      "text/html": [
       "<div>\n",
       "<style scoped>\n",
       "    .dataframe tbody tr th:only-of-type {\n",
       "        vertical-align: middle;\n",
       "    }\n",
       "\n",
       "    .dataframe tbody tr th {\n",
       "        vertical-align: top;\n",
       "    }\n",
       "\n",
       "    .dataframe thead th {\n",
       "        text-align: right;\n",
       "    }\n",
       "</style>\n",
       "<table border=\"1\" class=\"dataframe\">\n",
       "  <thead>\n",
       "    <tr style=\"text-align: right;\">\n",
       "      <th></th>\n",
       "      <th>weather</th>\n",
       "      <th>base</th>\n",
       "      <th>dt</th>\n",
       "      <th>timezone</th>\n",
       "      <th>id</th>\n",
       "      <th>name</th>\n",
       "      <th>cod</th>\n",
       "      <th>Lon</th>\n",
       "      <th>Lat</th>\n",
       "      <th>main.temp</th>\n",
       "      <th>...</th>\n",
       "      <th>sys.type</th>\n",
       "      <th>sys.id</th>\n",
       "      <th>Country</th>\n",
       "      <th>sys.sunrise</th>\n",
       "      <th>sys.sunset</th>\n",
       "      <th>main.sea_level</th>\n",
       "      <th>main.grnd_level</th>\n",
       "      <th>message</th>\n",
       "      <th>visibility</th>\n",
       "      <th>snow.1h</th>\n",
       "    </tr>\n",
       "  </thead>\n",
       "  <tbody>\n",
       "  </tbody>\n",
       "</table>\n",
       "<p>0 rows × 30 columns</p>\n",
       "</div>"
      ],
      "text/plain": [
       "Empty DataFrame\n",
       "Columns: [weather, base, dt, timezone, id, name, cod, Lon, Lat, main.temp, main.feels_like, main.temp_min, Max Temp, main.pressure, Humidity, Wind Speed, wind.deg, wind.gust, rain.1h, Cloud Cover, sys.type, sys.id, Country, sys.sunrise, sys.sunset, main.sea_level, main.grnd_level, message, visibility, snow.1h]\n",
       "Index: []\n",
       "\n",
       "[0 rows x 30 columns]"
      ]
     },
     "execution_count": 6,
     "metadata": {},
     "output_type": "execute_result"
    }
   ],
   "source": [
    "#  Get the indices of cities that have humidity over 100%.\n",
    "hum_df=weather_df\n",
    "hum_df=hum_df[hum_df['Humidity']>100]\n",
    "hum_df"
   ]
  },
  {
   "cell_type": "code",
   "execution_count": 7,
   "metadata": {},
   "outputs": [
    {
     "data": {
      "text/html": [
       "<div>\n",
       "<style scoped>\n",
       "    .dataframe tbody tr th:only-of-type {\n",
       "        vertical-align: middle;\n",
       "    }\n",
       "\n",
       "    .dataframe tbody tr th {\n",
       "        vertical-align: top;\n",
       "    }\n",
       "\n",
       "    .dataframe thead th {\n",
       "        text-align: right;\n",
       "    }\n",
       "</style>\n",
       "<table border=\"1\" class=\"dataframe\">\n",
       "  <thead>\n",
       "    <tr style=\"text-align: right;\">\n",
       "      <th></th>\n",
       "      <th>weather</th>\n",
       "      <th>base</th>\n",
       "      <th>dt</th>\n",
       "      <th>timezone</th>\n",
       "      <th>id</th>\n",
       "      <th>name</th>\n",
       "      <th>cod</th>\n",
       "      <th>Lon</th>\n",
       "      <th>Lat</th>\n",
       "      <th>main.temp</th>\n",
       "      <th>...</th>\n",
       "      <th>sys.type</th>\n",
       "      <th>sys.id</th>\n",
       "      <th>Country</th>\n",
       "      <th>sys.sunrise</th>\n",
       "      <th>sys.sunset</th>\n",
       "      <th>main.sea_level</th>\n",
       "      <th>main.grnd_level</th>\n",
       "      <th>message</th>\n",
       "      <th>visibility</th>\n",
       "      <th>snow.1h</th>\n",
       "    </tr>\n",
       "  </thead>\n",
       "  <tbody>\n",
       "    <tr>\n",
       "      <th>0</th>\n",
       "      <td>[{'id': 500, 'main': 'Rain', 'description': 'l...</td>\n",
       "      <td>stations</td>\n",
       "      <td>1.588986e+09</td>\n",
       "      <td>-14400.0</td>\n",
       "      <td>5106841.0</td>\n",
       "      <td>Albany</td>\n",
       "      <td>200</td>\n",
       "      <td>-73.97</td>\n",
       "      <td>42.60</td>\n",
       "      <td>37.80</td>\n",
       "      <td>...</td>\n",
       "      <td>3.0</td>\n",
       "      <td>19530.0</td>\n",
       "      <td>US</td>\n",
       "      <td>1.588931e+09</td>\n",
       "      <td>1.588983e+09</td>\n",
       "      <td>NaN</td>\n",
       "      <td>NaN</td>\n",
       "      <td>NaN</td>\n",
       "      <td>NaN</td>\n",
       "      <td>NaN</td>\n",
       "    </tr>\n",
       "    <tr>\n",
       "      <th>0</th>\n",
       "      <td>[{'id': 804, 'main': 'Clouds', 'description': ...</td>\n",
       "      <td>stations</td>\n",
       "      <td>1.588986e+09</td>\n",
       "      <td>-14400.0</td>\n",
       "      <td>3628473.0</td>\n",
       "      <td>San Cristobal</td>\n",
       "      <td>200</td>\n",
       "      <td>-72.22</td>\n",
       "      <td>7.77</td>\n",
       "      <td>67.73</td>\n",
       "      <td>...</td>\n",
       "      <td>NaN</td>\n",
       "      <td>NaN</td>\n",
       "      <td>VE</td>\n",
       "      <td>1.588934e+09</td>\n",
       "      <td>1.588979e+09</td>\n",
       "      <td>1014.0</td>\n",
       "      <td>909.0</td>\n",
       "      <td>NaN</td>\n",
       "      <td>NaN</td>\n",
       "      <td>NaN</td>\n",
       "    </tr>\n",
       "    <tr>\n",
       "      <th>0</th>\n",
       "      <td>[{'id': 800, 'main': 'Clear', 'description': '...</td>\n",
       "      <td>stations</td>\n",
       "      <td>1.588986e+09</td>\n",
       "      <td>43200.0</td>\n",
       "      <td>2180815.0</td>\n",
       "      <td>Tuatapere</td>\n",
       "      <td>200</td>\n",
       "      <td>167.68</td>\n",
       "      <td>-46.13</td>\n",
       "      <td>62.31</td>\n",
       "      <td>...</td>\n",
       "      <td>NaN</td>\n",
       "      <td>NaN</td>\n",
       "      <td>NZ</td>\n",
       "      <td>1.588968e+09</td>\n",
       "      <td>1.589003e+09</td>\n",
       "      <td>1019.0</td>\n",
       "      <td>1015.0</td>\n",
       "      <td>NaN</td>\n",
       "      <td>NaN</td>\n",
       "      <td>NaN</td>\n",
       "    </tr>\n",
       "    <tr>\n",
       "      <th>0</th>\n",
       "      <td>[{'id': 804, 'main': 'Clouds', 'description': ...</td>\n",
       "      <td>stations</td>\n",
       "      <td>1.588986e+09</td>\n",
       "      <td>10800.0</td>\n",
       "      <td>556268.0</td>\n",
       "      <td>Ostrovnoy</td>\n",
       "      <td>200</td>\n",
       "      <td>39.51</td>\n",
       "      <td>68.05</td>\n",
       "      <td>30.09</td>\n",
       "      <td>...</td>\n",
       "      <td>NaN</td>\n",
       "      <td>NaN</td>\n",
       "      <td>RU</td>\n",
       "      <td>1.588981e+09</td>\n",
       "      <td>1.589051e+09</td>\n",
       "      <td>1008.0</td>\n",
       "      <td>1006.0</td>\n",
       "      <td>NaN</td>\n",
       "      <td>NaN</td>\n",
       "      <td>NaN</td>\n",
       "    </tr>\n",
       "    <tr>\n",
       "      <th>0</th>\n",
       "      <td>[{'id': 500, 'main': 'Rain', 'description': 'l...</td>\n",
       "      <td>stations</td>\n",
       "      <td>1.588986e+09</td>\n",
       "      <td>36000.0</td>\n",
       "      <td>2155415.0</td>\n",
       "      <td>New Norfolk</td>\n",
       "      <td>200</td>\n",
       "      <td>147.06</td>\n",
       "      <td>-42.78</td>\n",
       "      <td>50.63</td>\n",
       "      <td>...</td>\n",
       "      <td>3.0</td>\n",
       "      <td>2031307.0</td>\n",
       "      <td>AU</td>\n",
       "      <td>1.588972e+09</td>\n",
       "      <td>1.589008e+09</td>\n",
       "      <td>NaN</td>\n",
       "      <td>NaN</td>\n",
       "      <td>NaN</td>\n",
       "      <td>NaN</td>\n",
       "      <td>NaN</td>\n",
       "    </tr>\n",
       "    <tr>\n",
       "      <th>...</th>\n",
       "      <td>...</td>\n",
       "      <td>...</td>\n",
       "      <td>...</td>\n",
       "      <td>...</td>\n",
       "      <td>...</td>\n",
       "      <td>...</td>\n",
       "      <td>...</td>\n",
       "      <td>...</td>\n",
       "      <td>...</td>\n",
       "      <td>...</td>\n",
       "      <td>...</td>\n",
       "      <td>...</td>\n",
       "      <td>...</td>\n",
       "      <td>...</td>\n",
       "      <td>...</td>\n",
       "      <td>...</td>\n",
       "      <td>...</td>\n",
       "      <td>...</td>\n",
       "      <td>...</td>\n",
       "      <td>...</td>\n",
       "      <td>...</td>\n",
       "    </tr>\n",
       "    <tr>\n",
       "      <th>0</th>\n",
       "      <td>[{'id': 800, 'main': 'Clear', 'description': '...</td>\n",
       "      <td>stations</td>\n",
       "      <td>1.588986e+09</td>\n",
       "      <td>34200.0</td>\n",
       "      <td>2077895.0</td>\n",
       "      <td>Alice Springs</td>\n",
       "      <td>200</td>\n",
       "      <td>133.88</td>\n",
       "      <td>-23.70</td>\n",
       "      <td>66.20</td>\n",
       "      <td>...</td>\n",
       "      <td>1.0</td>\n",
       "      <td>9483.0</td>\n",
       "      <td>AU</td>\n",
       "      <td>1.588973e+09</td>\n",
       "      <td>1.589013e+09</td>\n",
       "      <td>NaN</td>\n",
       "      <td>NaN</td>\n",
       "      <td>NaN</td>\n",
       "      <td>10000.0</td>\n",
       "      <td>NaN</td>\n",
       "    </tr>\n",
       "    <tr>\n",
       "      <th>0</th>\n",
       "      <td>[{'id': 804, 'main': 'Clouds', 'description': ...</td>\n",
       "      <td>stations</td>\n",
       "      <td>1.588986e+09</td>\n",
       "      <td>10800.0</td>\n",
       "      <td>523392.0</td>\n",
       "      <td>Naryan-Mar</td>\n",
       "      <td>200</td>\n",
       "      <td>53.09</td>\n",
       "      <td>67.67</td>\n",
       "      <td>30.52</td>\n",
       "      <td>...</td>\n",
       "      <td>NaN</td>\n",
       "      <td>NaN</td>\n",
       "      <td>RU</td>\n",
       "      <td>1.588978e+09</td>\n",
       "      <td>1.589047e+09</td>\n",
       "      <td>1011.0</td>\n",
       "      <td>1011.0</td>\n",
       "      <td>NaN</td>\n",
       "      <td>NaN</td>\n",
       "      <td>NaN</td>\n",
       "    </tr>\n",
       "    <tr>\n",
       "      <th>0</th>\n",
       "      <td>[{'id': 500, 'main': 'Rain', 'description': 'l...</td>\n",
       "      <td>stations</td>\n",
       "      <td>1.588986e+09</td>\n",
       "      <td>7200.0</td>\n",
       "      <td>3129371.0</td>\n",
       "      <td>Arroyo de la Encomienda</td>\n",
       "      <td>200</td>\n",
       "      <td>-4.80</td>\n",
       "      <td>41.61</td>\n",
       "      <td>54.91</td>\n",
       "      <td>...</td>\n",
       "      <td>1.0</td>\n",
       "      <td>6437.0</td>\n",
       "      <td>ES</td>\n",
       "      <td>1.589001e+09</td>\n",
       "      <td>1.589052e+09</td>\n",
       "      <td>NaN</td>\n",
       "      <td>NaN</td>\n",
       "      <td>NaN</td>\n",
       "      <td>10000.0</td>\n",
       "      <td>NaN</td>\n",
       "    </tr>\n",
       "    <tr>\n",
       "      <th>0</th>\n",
       "      <td>[{'id': 801, 'main': 'Clouds', 'description': ...</td>\n",
       "      <td>stations</td>\n",
       "      <td>1.588986e+09</td>\n",
       "      <td>-28800.0</td>\n",
       "      <td>5861897.0</td>\n",
       "      <td>Fairbanks</td>\n",
       "      <td>200</td>\n",
       "      <td>-147.72</td>\n",
       "      <td>64.84</td>\n",
       "      <td>66.16</td>\n",
       "      <td>...</td>\n",
       "      <td>1.0</td>\n",
       "      <td>7684.0</td>\n",
       "      <td>US</td>\n",
       "      <td>1.588942e+09</td>\n",
       "      <td>1.589007e+09</td>\n",
       "      <td>NaN</td>\n",
       "      <td>NaN</td>\n",
       "      <td>NaN</td>\n",
       "      <td>16093.0</td>\n",
       "      <td>NaN</td>\n",
       "    </tr>\n",
       "    <tr>\n",
       "      <th>0</th>\n",
       "      <td>[{'id': 804, 'main': 'Clouds', 'description': ...</td>\n",
       "      <td>stations</td>\n",
       "      <td>1.588986e+09</td>\n",
       "      <td>-14400.0</td>\n",
       "      <td>4969398.0</td>\n",
       "      <td>Lewiston</td>\n",
       "      <td>200</td>\n",
       "      <td>-70.21</td>\n",
       "      <td>44.10</td>\n",
       "      <td>49.03</td>\n",
       "      <td>...</td>\n",
       "      <td>1.0</td>\n",
       "      <td>4695.0</td>\n",
       "      <td>US</td>\n",
       "      <td>1.588930e+09</td>\n",
       "      <td>1.588982e+09</td>\n",
       "      <td>NaN</td>\n",
       "      <td>NaN</td>\n",
       "      <td>NaN</td>\n",
       "      <td>16093.0</td>\n",
       "      <td>NaN</td>\n",
       "    </tr>\n",
       "  </tbody>\n",
       "</table>\n",
       "<p>547 rows × 30 columns</p>\n",
       "</div>"
      ],
      "text/plain": [
       "                                              weather      base            dt  \\\n",
       "0   [{'id': 500, 'main': 'Rain', 'description': 'l...  stations  1.588986e+09   \n",
       "0   [{'id': 804, 'main': 'Clouds', 'description': ...  stations  1.588986e+09   \n",
       "0   [{'id': 800, 'main': 'Clear', 'description': '...  stations  1.588986e+09   \n",
       "0   [{'id': 804, 'main': 'Clouds', 'description': ...  stations  1.588986e+09   \n",
       "0   [{'id': 500, 'main': 'Rain', 'description': 'l...  stations  1.588986e+09   \n",
       "..                                                ...       ...           ...   \n",
       "0   [{'id': 800, 'main': 'Clear', 'description': '...  stations  1.588986e+09   \n",
       "0   [{'id': 804, 'main': 'Clouds', 'description': ...  stations  1.588986e+09   \n",
       "0   [{'id': 500, 'main': 'Rain', 'description': 'l...  stations  1.588986e+09   \n",
       "0   [{'id': 801, 'main': 'Clouds', 'description': ...  stations  1.588986e+09   \n",
       "0   [{'id': 804, 'main': 'Clouds', 'description': ...  stations  1.588986e+09   \n",
       "\n",
       "    timezone         id                     name  cod     Lon    Lat  \\\n",
       "0   -14400.0  5106841.0                   Albany  200  -73.97  42.60   \n",
       "0   -14400.0  3628473.0            San Cristobal  200  -72.22   7.77   \n",
       "0    43200.0  2180815.0                Tuatapere  200  167.68 -46.13   \n",
       "0    10800.0   556268.0                Ostrovnoy  200   39.51  68.05   \n",
       "0    36000.0  2155415.0              New Norfolk  200  147.06 -42.78   \n",
       "..       ...        ...                      ...  ...     ...    ...   \n",
       "0    34200.0  2077895.0            Alice Springs  200  133.88 -23.70   \n",
       "0    10800.0   523392.0               Naryan-Mar  200   53.09  67.67   \n",
       "0     7200.0  3129371.0  Arroyo de la Encomienda  200   -4.80  41.61   \n",
       "0   -28800.0  5861897.0                Fairbanks  200 -147.72  64.84   \n",
       "0   -14400.0  4969398.0                 Lewiston  200  -70.21  44.10   \n",
       "\n",
       "    main.temp  ...  sys.type     sys.id  Country   sys.sunrise    sys.sunset  \\\n",
       "0       37.80  ...       3.0    19530.0       US  1.588931e+09  1.588983e+09   \n",
       "0       67.73  ...       NaN        NaN       VE  1.588934e+09  1.588979e+09   \n",
       "0       62.31  ...       NaN        NaN       NZ  1.588968e+09  1.589003e+09   \n",
       "0       30.09  ...       NaN        NaN       RU  1.588981e+09  1.589051e+09   \n",
       "0       50.63  ...       3.0  2031307.0       AU  1.588972e+09  1.589008e+09   \n",
       "..        ...  ...       ...        ...      ...           ...           ...   \n",
       "0       66.20  ...       1.0     9483.0       AU  1.588973e+09  1.589013e+09   \n",
       "0       30.52  ...       NaN        NaN       RU  1.588978e+09  1.589047e+09   \n",
       "0       54.91  ...       1.0     6437.0       ES  1.589001e+09  1.589052e+09   \n",
       "0       66.16  ...       1.0     7684.0       US  1.588942e+09  1.589007e+09   \n",
       "0       49.03  ...       1.0     4695.0       US  1.588930e+09  1.588982e+09   \n",
       "\n",
       "    main.sea_level  main.grnd_level  message  visibility  snow.1h  \n",
       "0              NaN              NaN      NaN         NaN      NaN  \n",
       "0           1014.0            909.0      NaN         NaN      NaN  \n",
       "0           1019.0           1015.0      NaN         NaN      NaN  \n",
       "0           1008.0           1006.0      NaN         NaN      NaN  \n",
       "0              NaN              NaN      NaN         NaN      NaN  \n",
       "..             ...              ...      ...         ...      ...  \n",
       "0              NaN              NaN      NaN     10000.0      NaN  \n",
       "0           1011.0           1011.0      NaN         NaN      NaN  \n",
       "0              NaN              NaN      NaN     10000.0      NaN  \n",
       "0              NaN              NaN      NaN     16093.0      NaN  \n",
       "0              NaN              NaN      NaN     16093.0      NaN  \n",
       "\n",
       "[547 rows x 30 columns]"
      ]
     },
     "execution_count": 7,
     "metadata": {},
     "output_type": "execute_result"
    }
   ],
   "source": [
    "# Make a new DataFrame equal to the city data to drop all humidity outliers by index.\n",
    "clean_city_data=weather_df.drop(hum_df.index, axis=0, inplace=False)\n",
    "# Passing \"inplace=False\" will make a copy of the city_data DataFrame, which we call \"clean_city_data\".\n",
    "clean_city_data=pd.DataFrame(clean_city_data)\n",
    "\n",
    "clean_city_data"
   ]
  },
  {
   "cell_type": "code",
   "execution_count": 8,
   "metadata": {},
   "outputs": [
    {
     "data": {
      "text/html": [
       "<div>\n",
       "<style scoped>\n",
       "    .dataframe tbody tr th:only-of-type {\n",
       "        vertical-align: middle;\n",
       "    }\n",
       "\n",
       "    .dataframe tbody tr th {\n",
       "        vertical-align: top;\n",
       "    }\n",
       "\n",
       "    .dataframe thead th {\n",
       "        text-align: right;\n",
       "    }\n",
       "</style>\n",
       "<table border=\"1\" class=\"dataframe\">\n",
       "  <thead>\n",
       "    <tr style=\"text-align: right;\">\n",
       "      <th></th>\n",
       "      <th>name</th>\n",
       "      <th>Lon</th>\n",
       "      <th>Lat</th>\n",
       "      <th>Max Temp</th>\n",
       "      <th>Wind Speed</th>\n",
       "      <th>Humidity</th>\n",
       "      <th>Cloud Cover</th>\n",
       "      <th>Country</th>\n",
       "    </tr>\n",
       "  </thead>\n",
       "  <tbody>\n",
       "    <tr>\n",
       "      <th>0</th>\n",
       "      <td>Ushuaia</td>\n",
       "      <td>-68.30</td>\n",
       "      <td>-54.80</td>\n",
       "      <td>46.40</td>\n",
       "      <td>4.70</td>\n",
       "      <td>75.0</td>\n",
       "      <td>20.0</td>\n",
       "      <td>AR</td>\n",
       "    </tr>\n",
       "    <tr>\n",
       "      <th>0</th>\n",
       "      <td>Punta Arenas</td>\n",
       "      <td>-70.92</td>\n",
       "      <td>-53.15</td>\n",
       "      <td>41.00</td>\n",
       "      <td>6.93</td>\n",
       "      <td>86.0</td>\n",
       "      <td>100.0</td>\n",
       "      <td>CL</td>\n",
       "    </tr>\n",
       "    <tr>\n",
       "      <th>0</th>\n",
       "      <td>Bluff</td>\n",
       "      <td>168.33</td>\n",
       "      <td>-46.60</td>\n",
       "      <td>57.29</td>\n",
       "      <td>7.85</td>\n",
       "      <td>73.0</td>\n",
       "      <td>0.0</td>\n",
       "      <td>NZ</td>\n",
       "    </tr>\n",
       "    <tr>\n",
       "      <th>0</th>\n",
       "      <td>Kaitangata</td>\n",
       "      <td>169.85</td>\n",
       "      <td>-46.28</td>\n",
       "      <td>60.01</td>\n",
       "      <td>4.00</td>\n",
       "      <td>60.0</td>\n",
       "      <td>0.0</td>\n",
       "      <td>NZ</td>\n",
       "    </tr>\n",
       "    <tr>\n",
       "      <th>0</th>\n",
       "      <td>Mataura</td>\n",
       "      <td>168.86</td>\n",
       "      <td>-46.19</td>\n",
       "      <td>59.83</td>\n",
       "      <td>3.47</td>\n",
       "      <td>62.0</td>\n",
       "      <td>0.0</td>\n",
       "      <td>NZ</td>\n",
       "    </tr>\n",
       "    <tr>\n",
       "      <th>...</th>\n",
       "      <td>...</td>\n",
       "      <td>...</td>\n",
       "      <td>...</td>\n",
       "      <td>...</td>\n",
       "      <td>...</td>\n",
       "      <td>...</td>\n",
       "      <td>...</td>\n",
       "      <td>...</td>\n",
       "    </tr>\n",
       "    <tr>\n",
       "      <th>0</th>\n",
       "      <td>Khatanga</td>\n",
       "      <td>102.50</td>\n",
       "      <td>71.97</td>\n",
       "      <td>25.34</td>\n",
       "      <td>21.94</td>\n",
       "      <td>95.0</td>\n",
       "      <td>100.0</td>\n",
       "      <td>RU</td>\n",
       "    </tr>\n",
       "    <tr>\n",
       "      <th>0</th>\n",
       "      <td>Upernavik</td>\n",
       "      <td>-56.15</td>\n",
       "      <td>72.79</td>\n",
       "      <td>21.47</td>\n",
       "      <td>10.25</td>\n",
       "      <td>90.0</td>\n",
       "      <td>100.0</td>\n",
       "      <td>GL</td>\n",
       "    </tr>\n",
       "    <tr>\n",
       "      <th>0</th>\n",
       "      <td>Dikson</td>\n",
       "      <td>80.55</td>\n",
       "      <td>73.51</td>\n",
       "      <td>23.68</td>\n",
       "      <td>14.20</td>\n",
       "      <td>95.0</td>\n",
       "      <td>9.0</td>\n",
       "      <td>RU</td>\n",
       "    </tr>\n",
       "    <tr>\n",
       "      <th>0</th>\n",
       "      <td>Qaanaaq</td>\n",
       "      <td>-69.36</td>\n",
       "      <td>77.48</td>\n",
       "      <td>8.40</td>\n",
       "      <td>6.96</td>\n",
       "      <td>80.0</td>\n",
       "      <td>0.0</td>\n",
       "      <td>GL</td>\n",
       "    </tr>\n",
       "    <tr>\n",
       "      <th>0</th>\n",
       "      <td>Longyearbyen</td>\n",
       "      <td>15.64</td>\n",
       "      <td>78.22</td>\n",
       "      <td>26.60</td>\n",
       "      <td>12.75</td>\n",
       "      <td>73.0</td>\n",
       "      <td>40.0</td>\n",
       "      <td>SJ</td>\n",
       "    </tr>\n",
       "  </tbody>\n",
       "</table>\n",
       "<p>547 rows × 8 columns</p>\n",
       "</div>"
      ],
      "text/plain": [
       "            name     Lon    Lat  Max Temp  Wind Speed  Humidity  Cloud Cover  \\\n",
       "0        Ushuaia  -68.30 -54.80     46.40        4.70      75.0         20.0   \n",
       "0   Punta Arenas  -70.92 -53.15     41.00        6.93      86.0        100.0   \n",
       "0          Bluff  168.33 -46.60     57.29        7.85      73.0          0.0   \n",
       "0     Kaitangata  169.85 -46.28     60.01        4.00      60.0          0.0   \n",
       "0        Mataura  168.86 -46.19     59.83        3.47      62.0          0.0   \n",
       "..           ...     ...    ...       ...         ...       ...          ...   \n",
       "0       Khatanga  102.50  71.97     25.34       21.94      95.0        100.0   \n",
       "0      Upernavik  -56.15  72.79     21.47       10.25      90.0        100.0   \n",
       "0         Dikson   80.55  73.51     23.68       14.20      95.0          9.0   \n",
       "0        Qaanaaq  -69.36  77.48      8.40        6.96      80.0          0.0   \n",
       "0   Longyearbyen   15.64  78.22     26.60       12.75      73.0         40.0   \n",
       "\n",
       "   Country  \n",
       "0       AR  \n",
       "0       CL  \n",
       "0       NZ  \n",
       "0       NZ  \n",
       "0       NZ  \n",
       "..     ...  \n",
       "0       RU  \n",
       "0       GL  \n",
       "0       RU  \n",
       "0       GL  \n",
       "0       SJ  \n",
       "\n",
       "[547 rows x 8 columns]"
      ]
     },
     "execution_count": 8,
     "metadata": {},
     "output_type": "execute_result"
    }
   ],
   "source": [
    "# Extract relevant fields from the data frame\n",
    "clean_city_data=clean_city_data.filter(['name','Lon', 'Lat', 'Max Temp','Wind Speed', 'Humidity', 'Cloud Cover', 'Country'], axis=1)\n",
    "clean_city_data=clean_city_data.sort_values('Lat')\n",
    "# Export the City_Data into a csv\n",
    "clean_city_data.to_csv('clean_city_data.csv')\n",
    "clean_city_data"
   ]
  },
  {
   "cell_type": "markdown",
   "metadata": {},
   "source": [
    "## Plotting the Data\n",
    "* Use proper labeling of the plots using plot titles (including date of analysis) and axes labels.\n",
    "* Save the plotted figures as .pngs."
   ]
  },
  {
   "cell_type": "markdown",
   "metadata": {},
   "source": [
    "## Latitude vs. Temperature Plot"
   ]
  },
  {
   "cell_type": "code",
   "execution_count": 9,
   "metadata": {
    "scrolled": true
   },
   "outputs": [
    {
     "data": {
      "text/plain": [
       "Text(0, 0.5, 'Max Temperatures(F)')"
      ]
     },
     "execution_count": 9,
     "metadata": {},
     "output_type": "execute_result"
    },
    {
     "data": {
      "image/png": "[encoded data removed]",
      "text/plain": [
       "<Figure size 432x288 with 1 Axes>"
      ]
     },
     "metadata": {
      "needs_background": "light"
     },
     "output_type": "display_data"
    }
   ],
   "source": [
    "#Create variable lists to plot.  wd_lat for latitude, wd_temp for temp, etc...\n",
    "wd_lat=clean_city_data['Lat']\n",
    "wd_temp=clean_city_data['Max Temp']\n",
    "\n",
    "plt.plot(wd_lat, wd_temp)\n",
    "plt.title(\"Max Temperatures(F) by Latitude May 7th, 2020\")\n",
    "plt.xlabel(\"Latitdue\")\n",
    "plt.ylabel('Max Temperatures(F)')"
   ]
  },
  {
   "cell_type": "code",
   "execution_count": null,
   "metadata": {},
   "outputs": [],
   "source": [
    "#Code is looking at the maximum temperature from the city list and plotting it by latitude.  \n",
    "#We can see max temperature distributed over the various latitudes"
   ]
  },
  {
   "cell_type": "markdown",
   "metadata": {},
   "source": [
    "## Latitude vs. Humidity Plot"
   ]
  },
  {
   "cell_type": "code",
   "execution_count": 10,
   "metadata": {},
   "outputs": [
    {
     "data": {
      "text/plain": [
       "Text(0, 0.5, 'Humidity (%)')"
      ]
     },
     "execution_count": 10,
     "metadata": {},
     "output_type": "execute_result"
    },
    {
     "data": {
      "image/png": "[encoded data removed]",
      "text/plain": [
       "<Figure size 432x288 with 1 Axes>"
      ]
     },
     "metadata": {
      "needs_background": "light"
     },
     "output_type": "display_data"
    }
   ],
   "source": [
    "#Create variable lists to plot. Adding Humidity to plot\n",
    "wd_hum=clean_city_data['Humidity']\n",
    "\n",
    "plt.plot(wd_lat, wd_hum)\n",
    "plt.title(\"Humidity (%) by Latitude May 7th, 2020\")\n",
    "plt.xlabel(\"Latitdue\")\n",
    "plt.ylabel('Humidity (%)')"
   ]
  },
  {
   "cell_type": "code",
   "execution_count": null,
   "metadata": {},
   "outputs": [],
   "source": [
    "#Code is looking at the humidity reading from the city list and plotting it by latitude.  \n",
    "#We can see humidity distributed over the various latitudes"
   ]
  },
  {
   "cell_type": "markdown",
   "metadata": {},
   "source": [
    "## Latitude vs. Cloudiness Plot"
   ]
  },
  {
   "cell_type": "code",
   "execution_count": 11,
   "metadata": {},
   "outputs": [
    {
     "data": {
      "text/plain": [
       "Text(0, 0.5, 'Cloudiness (%)')"
      ]
     },
     "execution_count": 11,
     "metadata": {},
     "output_type": "execute_result"
    },
    {
     "data": {
      "image/png": "[encoded data removed]",
      "text/plain": [
       "<Figure size 432x288 with 1 Axes>"
      ]
     },
     "metadata": {
      "needs_background": "light"
     },
     "output_type": "display_data"
    }
   ],
   "source": [
    "#Add variable list for Cloudiness\n",
    "wd_cloud=clean_city_data['Cloud Cover']\n",
    "\n",
    "plt.plot(wd_lat, wd_cloud)\n",
    "plt.title(\"Cloudiness (%) by Latitude May 7th, 2020\")\n",
    "plt.xlabel(\"Latitdue\")\n",
    "plt.ylabel('Cloudiness (%)')"
   ]
  },
  {
   "cell_type": "code",
   "execution_count": null,
   "metadata": {},
   "outputs": [],
   "source": [
    "#Code is looking at the percent cloudiness reading from the city list and plotting it by latitude.  \n",
    "#We can see percent cloudiness distributed over the various latitudes"
   ]
  },
  {
   "cell_type": "markdown",
   "metadata": {},
   "source": [
    "## Latitude vs. Wind Speed Plot"
   ]
  },
  {
   "cell_type": "code",
   "execution_count": 12,
   "metadata": {},
   "outputs": [
    {
     "data": {
      "text/plain": [
       "Text(0, 0.5, 'Wind Speed (mpg)')"
      ]
     },
     "execution_count": 12,
     "metadata": {},
     "output_type": "execute_result"
    },
    {
     "data": {
      "image/png": "[encoded data removed]",
      "text/plain": [
       "<Figure size 432x288 with 1 Axes>"
      ]
     },
     "metadata": {
      "needs_background": "light"
     },
     "output_type": "display_data"
    }
   ],
   "source": [
    "#Add variable list for Wind speed\n",
    "wd_wind=clean_city_data['Wind Speed']\n",
    "\n",
    "plt.plot(wd_lat, wd_wind)\n",
    "plt.title(\"Wind Speed (mph) by Latitude May 7th, 2020\")\n",
    "plt.xlabel(\"Latitdue\")\n",
    "plt.ylabel('Wind Speed (mpg)')"
   ]
  },
  {
   "cell_type": "code",
   "execution_count": null,
   "metadata": {},
   "outputs": [],
   "source": [
    "#Code is looking at the average wind speed reading from the city list and plotting it by latitude.  \n",
    "#We can see average wind speed distributed over the various latitudes"
   ]
  },
  {
   "cell_type": "markdown",
   "metadata": {},
   "source": [
    "## Linear Regression"
   ]
  },
  {
   "cell_type": "code",
   "execution_count": null,
   "metadata": {},
   "outputs": [],
   "source": [
    "# OPTIONAL: Create a function to create Linear Regression plots\n",
    "# Will come back to"
   ]
  },
  {
   "cell_type": "code",
   "execution_count": 13,
   "metadata": {},
   "outputs": [],
   "source": [
    "# Create Northern and Southern Hemisphere DataFrames\n",
    "no_hem=clean_city_data[clean_city_data['Lat']>0]\n",
    "so_hem=clean_city_data[clean_city_data['Lat']<0]\n",
    "\n"
   ]
  },
  {
   "cell_type": "markdown",
   "metadata": {},
   "source": [
    "####  Northern Hemisphere - Max Temp vs. Latitude Linear Regression"
   ]
  },
  {
   "cell_type": "code",
   "execution_count": 14,
   "metadata": {},
   "outputs": [
    {
     "name": "stdout",
     "output_type": "stream",
     "text": [
      "The correlation between both factors is -0.87\n"
     ]
    },
    {
     "data": {
      "image/png": "[encoded data removed]",
      "text/plain": [
       "<Figure size 432x288 with 1 Axes>"
      ]
     },
     "metadata": {
      "needs_background": "light"
     },
     "output_type": "display_data"
    }
   ],
   "source": [
    "#Bring in pearsonr to calculate correlation between variables.  will call correlation\n",
    "x=no_hem['Lat']\n",
    "y=no_hem['Max Temp']\n",
    "correlation = st.pearsonr(x, y)\n",
    "print(f\"The correlation between both factors is {round(correlation[0],2)}\")\n",
    "cp_slope, cp_int, cp_r, vc_p, cp_std_err = st.linregress(x, y)\n",
    "cp_fit = cp_slope * x + cp_int\n",
    "\n",
    "plt.scatter(x,y)\n",
    "plt.plot(x,cp_fit,\"--\")\n",
    "plt.xlabel('Latitude')\n",
    "plt.ylabel(\"Max Temmperature (F)\")\n",
    "plt.title(\"Norther Hemisphere Max Temp by Latitude May 7th, 2020\")\n",
    "plt.show()"
   ]
  },
  {
   "cell_type": "markdown",
   "metadata": {},
   "source": [
    "####  Southern Hemisphere - Max Temp vs. Latitude Linear Regression"
   ]
  },
  {
   "cell_type": "code",
   "execution_count": 15,
   "metadata": {},
   "outputs": [
    {
     "name": "stdout",
     "output_type": "stream",
     "text": [
      "The correlation between both factors is 0.71\n"
     ]
    },
    {
     "data": {
      "image/png": "[encoded data removed]",
      "text/plain": [
       "<Figure size 432x288 with 1 Axes>"
      ]
     },
     "metadata": {
      "needs_background": "light"
     },
     "output_type": "display_data"
    }
   ],
   "source": [
    "#Repeat for southern hem.  \n",
    "x=so_hem['Lat']\n",
    "y=so_hem['Max Temp']\n",
    "correlation = st.pearsonr(x, y)\n",
    "print(f\"The correlation between both factors is {round(correlation[0],2)}\")\n",
    "cp_slope, cp_int, cp_r, vc_p, cp_std_err = st.linregress(x, y)\n",
    "cp_fit = cp_slope * x + cp_int\n",
    "\n",
    "plt.scatter(x,y)\n",
    "plt.plot(x,cp_fit,\"--\")\n",
    "plt.xlabel('Latitude')\n",
    "plt.ylabel(\"Max Temmperature (F)\")\n",
    "plt.title(\"Southern Hemisphere Max Temp by Latitude May 7th, 2020\")\n",
    "plt.show()"
   ]
  },
  {
   "cell_type": "code",
   "execution_count": null,
   "metadata": {},
   "outputs": [],
   "source": [
    "#Max Temp vs. Latitude Linear Regression for norther and southern hemispheres is plotting lat vs max tem and determining the pearson-r correlation value\n",
    "#We see farily strong pearson-r correlation coefficient value for both northern and southern hemishpheres comparing Latitude with max Temp, indicating a stroung correlation.\n",
    "#Trend is temperatures increase toward the equator (i.e. Lat = 0.0)\n",
    "#As one gets closer to the equator, those sections of the earth recieve more direct sunlight than latitudes closer to the poles, hence warming this regions more.\n",
    "#Correlation is slightly stronger in Northern hemisphere (-0.87 to 0.71)\n"
   ]
  },
  {
   "cell_type": "markdown",
   "metadata": {},
   "source": [
    "####  Northern Hemisphere - Humidity (%) vs. Latitude Linear Regression"
   ]
  },
  {
   "cell_type": "code",
   "execution_count": 16,
   "metadata": {},
   "outputs": [
    {
     "name": "stdout",
     "output_type": "stream",
     "text": [
      "The correlation between both factors is 0.08\n"
     ]
    },
    {
     "data": {
      "image/png": "[encoded data removed]",
      "text/plain": [
       "<Figure size 432x288 with 1 Axes>"
      ]
     },
     "metadata": {
      "needs_background": "light"
     },
     "output_type": "display_data"
    }
   ],
   "source": [
    "#Repeat for humidty\n",
    "x=no_hem['Lat']\n",
    "y=no_hem['Humidity']\n",
    "correlation = st.pearsonr(x, y)\n",
    "print(f\"The correlation between both factors is {round(correlation[0],2)}\")\n",
    "cp_slope, cp_int, cp_r, vc_p, cp_std_err = st.linregress(x, y)\n",
    "cp_fit = cp_slope * x + cp_int\n",
    "\n",
    "plt.scatter(x,y)\n",
    "plt.plot(x,cp_fit,\"--\")\n",
    "plt.xlabel('Latitude')\n",
    "plt.ylabel(\"Humidity (%)\")\n",
    "plt.title(\"Nouthern Hemisphere %Humidity by Latitude May 7th, 2020\")\n",
    "plt.show()"
   ]
  },
  {
   "cell_type": "markdown",
   "metadata": {},
   "source": [
    "####  Southern Hemisphere - Humidity (%) vs. Latitude Linear Regression"
   ]
  },
  {
   "cell_type": "code",
   "execution_count": 17,
   "metadata": {},
   "outputs": [
    {
     "name": "stdout",
     "output_type": "stream",
     "text": [
      "The correlation between both factors is 0.15\n"
     ]
    },
    {
     "data": {
      "image/png": "[encoded data removed]",
      "text/plain": [
       "<Figure size 432x288 with 1 Axes>"
      ]
     },
     "metadata": {
      "needs_background": "light"
     },
     "output_type": "display_data"
    }
   ],
   "source": [
    "#Repeat for humidty in southern hemisphere\n",
    "x=so_hem['Lat']\n",
    "y=so_hem['Humidity']\n",
    "correlation = st.pearsonr(x, y)\n",
    "print(f\"The correlation between both factors is {round(correlation[0],2)}\")\n",
    "cp_slope, cp_int, cp_r, vc_p, cp_std_err = st.linregress(x, y)\n",
    "cp_fit = cp_slope * x + cp_int\n",
    "\n",
    "plt.scatter(x,y)\n",
    "plt.plot(x,cp_fit,\"--\")\n",
    "plt.xlabel('Latitude')\n",
    "plt.ylabel(\"Humidity (%)\")\n",
    "plt.title(\"Southern Hemisphere %Humidity by Latitude May 7th, 2020\")\n",
    "plt.show()"
   ]
  },
  {
   "cell_type": "code",
   "execution_count": null,
   "metadata": {},
   "outputs": [],
   "source": [
    "#There is not a strong correlation between latitiude and humidity measurments for either norther or southern hemisphere.\n",
    "#Humidity is more likely influenced by natrual surroundings and climate (location to mountains, trees, proximity to ocean, altitude, than by latitude.\n"
   ]
  },
  {
   "cell_type": "markdown",
   "metadata": {},
   "source": [
    "####  Northern Hemisphere - Cloudiness (%) vs. Latitude Linear Regression"
   ]
  },
  {
   "cell_type": "code",
   "execution_count": 18,
   "metadata": {},
   "outputs": [
    {
     "name": "stdout",
     "output_type": "stream",
     "text": [
      "The correlation between both factors is 0.09\n"
     ]
    },
    {
     "data": {
      "image/png": "[encoded data removed]",
      "text/plain": [
       "<Figure size 432x288 with 1 Axes>"
      ]
     },
     "metadata": {
      "needs_background": "light"
     },
     "output_type": "display_data"
    }
   ],
   "source": [
    "#Repeat for cloudiness in northern hemisphere\n",
    "x=no_hem['Lat']\n",
    "y=no_hem['Cloud Cover']\n",
    "correlation = st.pearsonr(x, y)\n",
    "print(f\"The correlation between both factors is {round(correlation[0],2)}\")\n",
    "cp_slope, cp_int, cp_r, vc_p, cp_std_err = st.linregress(x, y)\n",
    "cp_fit = cp_slope * x + cp_int\n",
    "\n",
    "plt.scatter(x,y)\n",
    "plt.plot(x,cp_fit,\"--\")\n",
    "plt.title(\"Northern Hemisphere %Cloudiness by Latitude May 7th, 2020\")\n",
    "plt.xlabel('Latitude')\n",
    "plt.ylabel(\"Cloudiness (%)\")\n",
    "plt.show()"
   ]
  },
  {
   "cell_type": "markdown",
   "metadata": {},
   "source": [
    "####  Southern Hemisphere - Cloudiness (%) vs. Latitude Linear Regression"
   ]
  },
  {
   "cell_type": "code",
   "execution_count": 19,
   "metadata": {},
   "outputs": [
    {
     "name": "stdout",
     "output_type": "stream",
     "text": [
      "The correlation between both factors is 0.1\n"
     ]
    },
    {
     "data": {
      "image/png": "[encoded data removed]",
      "text/plain": [
       "<Figure size 432x288 with 1 Axes>"
      ]
     },
     "metadata": {
      "needs_background": "light"
     },
     "output_type": "display_data"
    }
   ],
   "source": [
    "#Repeat for humidty in southern hemisphere\n",
    "x=so_hem['Lat']\n",
    "y=so_hem['Cloud Cover']\n",
    "correlation = st.pearsonr(x, y)\n",
    "print(f\"The correlation between both factors is {round(correlation[0],2)}\")\n",
    "cp_slope, cp_int, cp_r, vc_p, cp_std_err = st.linregress(x, y)\n",
    "cp_fit = cp_slope * x + cp_int\n",
    "\n",
    "plt.scatter(x,y)\n",
    "plt.plot(x,cp_fit,\"--\")\n",
    "plt.title(\"Southern Hemisphere %Cloudiness by Latitude May 7th, 2020\")\n",
    "plt.xlabel('Latitude')\n",
    "plt.ylabel(\"Cloudiness (%)\")\n",
    "plt.show()"
   ]
  },
  {
   "cell_type": "code",
   "execution_count": null,
   "metadata": {},
   "outputs": [],
   "source": [
    "# With correlation values of 0.1 and 0.09 for the southern and northern hemispheres respectively, we see little correlation between % cloudiness and latitude\n",
    "# Would be interesting to compare humidity to cloudiness and look for any correlation."
   ]
  },
  {
   "cell_type": "markdown",
   "metadata": {},
   "source": [
    "####  Northern Hemisphere - Wind Speed (mph) vs. Latitude Linear Regression"
   ]
  },
  {
   "cell_type": "code",
   "execution_count": 20,
   "metadata": {},
   "outputs": [
    {
     "name": "stdout",
     "output_type": "stream",
     "text": [
      "The correlation between both factors is 0.15\n"
     ]
    },
    {
     "data": {
      "image/png": "[encoded data removed]",
      "text/plain": [
       "<Figure size 432x288 with 1 Axes>"
      ]
     },
     "metadata": {
      "needs_background": "light"
     },
     "output_type": "display_data"
    }
   ],
   "source": [
    "#Repeat for wind speed in norther hemisphere\n",
    "x=no_hem['Lat']\n",
    "y=no_hem['Wind Speed']\n",
    "correlation = st.pearsonr(x, y)\n",
    "print(f\"The correlation between both factors is {round(correlation[0],2)}\")\n",
    "cp_slope, cp_int, cp_r, vc_p, cp_std_err = st.linregress(x, y)\n",
    "cp_fit = cp_slope * x + cp_int\n",
    "\n",
    "plt.scatter(x,y)\n",
    "plt.plot(x,cp_fit,\"--\")\n",
    "plt.title(\"Northern Hemisphere Wind Speed by Latitude May 7th, 2020\")\n",
    "plt.xlabel('Latitude')\n",
    "plt.ylabel(\"Wind Speed (mph)\")\n",
    "plt.show()"
   ]
  },
  {
   "cell_type": "markdown",
   "metadata": {},
   "source": [
    "####  Southern Hemisphere - Wind Speed (mph) vs. Latitude Linear Regression"
   ]
  },
  {
   "cell_type": "code",
   "execution_count": 21,
   "metadata": {},
   "outputs": [
    {
     "name": "stdout",
     "output_type": "stream",
     "text": [
      "The correlation between both factors is -0.13\n"
     ]
    },
    {
     "data": {
      "image/png": "[encoded data removed]",
      "text/plain": [
       "<Figure size 432x288 with 1 Axes>"
      ]
     },
     "metadata": {
      "needs_background": "light"
     },
     "output_type": "display_data"
    }
   ],
   "source": [
    "#Repeat for wind speed in outhern hemisphere\n",
    "x=so_hem['Lat']\n",
    "y=so_hem['Wind Speed']\n",
    "correlation = st.pearsonr(x, y)\n",
    "print(f\"The correlation between both factors is {round(correlation[0],2)}\")\n",
    "cp_slope, cp_int, cp_r, vc_p, cp_std_err = st.linregress(x, y)\n",
    "cp_fit = cp_slope * x + cp_int\n",
    "\n",
    "plt.scatter(x,y)\n",
    "plt.plot(x,cp_fit,\"--\")\n",
    "plt.title(\"Southern Hemisphere Wind Speed by Latitude May 7th, 2020\")\n",
    "plt.xlabel('Latitude')\n",
    "plt.ylabel(\"Wind Speed (mph)\")\n",
    "plt.show()"
   ]
  },
  {
   "cell_type": "code",
   "execution_count": 32,
   "metadata": {},
   "outputs": [],
   "source": [
    "#We see little correlation between latitude and measurements other than maximum temperature for the data analyzed.\n",
    "#Max temp had strong correlation with latitude in both norther and southern hemispheres, -0.87 and 0.71 respectively.  Closer to 0 Latitude the hotter it gets due to more direct sunlight.\n",
    "#We see little correlation between latitude and humidity, wind speed, and cloudiness for both hemispheres.\n",
    "#In neither hemisphere for any of ther above fields (humidity, wind speed, cloudiness) did we have an a pearson-r correlation value greater than 0.2 or less than -0.2.\n",
    "#This indicate minimal correlation between latitude and humidity, wind speed and cloudiness\n",
    "#Latitude and the amout of direct sunlight has a storng correlation and drive temperature for places around the world, other city information like altitude would be interesting to correlate to maximum temperature too.\n",
    "#Humidity, wind speed and cloudiness are likely more stongly coordinated to other climate features than latitude.  These can be affected by climate and terrain.\n",
    "#It should be noted that this dataset while containing over 500 cities around the world is only from May 7th, 2020.\n",
    "#Looking at this information seasonally or over mulitple days would make stronger case for correlation."
   ]
  },
  {
   "cell_type": "code",
   "execution_count": null,
   "metadata": {},
   "outputs": [],
   "source": []
  }
 ],
 "metadata": {
  "anaconda-cloud": {},
  "kernel_info": {
   "name": "python3"
  },
  "kernelspec": {
   "display_name": "Python [conda env:gmaps]",
   "language": "python",
   "name": "conda-env-gmaps-py"
  },
  "language_info": {
   "codemirror_mode": {
    "name": "ipython",
    "version": 3
   },
   "file_extension": ".py",
   "mimetype": "text/x-python",
   "name": "python",
   "nbconvert_exporter": "python",
   "pygments_lexer": "ipython3",
   "version": "3.7.7"
  },
  "latex_envs": {
   "LaTeX_envs_menu_present": true,
   "autoclose": false,
   "autocomplete": true,
   "bibliofile": "biblio.bib",
   "cite_by": "apalike",
   "current_citInitial": 1,
   "eqLabelWithNumbers": true,
   "eqNumInitial": 1,
   "hotkeys": {
    "equation": "Ctrl-E",
    "itemize": "Ctrl-I"
   },
   "labels_anchors": false,
   "latex_user_defs": false,
   "report_style_numbering": false,
   "user_envs_cfg": false
  },
  "nteract": {
   "version": "0.12.3"
  }
 },
 "nbformat": 4,
 "nbformat_minor": 4
}
